{
 "cells": [
  {
   "cell_type": "code",
   "execution_count": 4,
   "id": "12ee59a5-c8b4-4e3c-9ea6-1598e79c70eb",
   "metadata": {},
   "outputs": [],
   "source": [
    "import seaborn as sns\n",
    "import numpy as np\n",
    "\n",
    "import matplotlib.pyplot as plt\n",
    "from py_vollib_vectorized import vectorized_implied_volatility as implied_vol"
   ]
  },
  {
   "cell_type": "markdown",
   "id": "5864b9f2-52a2-46b1-bfd3-833a131b9e7f",
   "metadata": {},
   "source": [
    "\n",
    "S0 = 100.0             # asset price\n",
    "T = 1.0                # time in years\n",
    "r = 0.02               # risk-free rate\n",
    "N = 252                # number of time steps in simulation\n",
    "M = 1000               # number of simulations\n",
    "\n",
    "kappa = 3              # rate of mean reversion of variance under risk-neutral dynamics\n",
    "theta = 0.20**2        # long-term mean of variance under risk-neutral dynamics\n",
    "v0 = 0.25**2           # initial variance under risk-neutral dynamics\n",
    "rho = 0.7              # correlation between returns and variances under risk-neutral dynamics\n",
    "sigma = 0.6            # volatility of volatility\n",
    "\n",
    "theta, v0"
   ]
  },
  {
   "cell_type": "code",
   "execution_count": 5,
   "id": "5c44b7c0-8563-42dd-be47-72fa950f8d58",
   "metadata": {},
   "outputs": [],
   "source": [
    "def heston_model_sim(S0, v0, rho, kappa, theta, sigma,T, N, M):\n",
    "    \"\"\"\n",
    "    Inputs:\n",
    "     - S0, v0: initial parameters for asset and variance\n",
    "     - rho   : correlation between asset returns and variance\n",
    "     - kappa : rate of mean reversion in variance process\n",
    "     - theta : long-term mean of variance process\n",
    "     - sigma : vol of vol / volatility of variance process\n",
    "     - T     : time of simulation\n",
    "     - N     : number of time steps\n",
    "     - M     : number of scenarios / simulations\n",
    "    \n",
    "    Outputs:\n",
    "    - asset prices over time (numpy array)\n",
    "    - variance over time (numpy array)\n",
    "    \"\"\"\n",
    "    # initialise other parameters\n",
    "    dt = T/N\n",
    "    mu = np.array([0,0])\n",
    "    cov = np.array([[1,rho],\n",
    "                    [rho,1]])\n",
    "\n",
    "    # arrays for storing prices and variances\n",
    "    S = np.full(shape=(N+1,M), fill_value=S0)\n",
    "    v = np.full(shape=(N+1,M), fill_value=v0)\n",
    "\n",
    "    # sampling correlated brownian motions under risk-neutral measure\n",
    "    Z = np.random.multivariate_normal(mu, cov, (N,M))\n",
    "\n",
    "    for i in range(1,N+1):\n",
    "        S[i] = S[i-1] * np.exp( (r - 0.5*v[i-1S0 = 100.0])*dt + np.sqrt(v[i-1] * dt) * Z[i-1,:,0] )\n",
    "        v[i] = np.maximum(v[i-1] + kappa*(theta-v[i-1])*dt + sigma*np.sqrt(v[i-1]*dt)*Z[i-1,:,1],0)\n",
    "    \n",
    "    return S, v"
   ]
  },
  {
   "cell_type": "code",
   "execution_count": 8,
   "id": "095cc153",
   "metadata": {},
   "outputs": [
    {
     "ename": "NameError",
     "evalue": "name 'kappa' is not defined",
     "output_type": "error",
     "traceback": [
      "\u001b[0;31m---------------------------------------------------------------------------\u001b[0m",
      "\u001b[0;31mNameError\u001b[0m                                 Traceback (most recent call last)",
      "Cell \u001b[0;32mIn[8], line 5\u001b[0m\n\u001b[1;32m      3\u001b[0m S0 \u001b[38;5;241m=\u001b[39m \u001b[38;5;241m100.0\u001b[39m\n\u001b[1;32m      4\u001b[0m v0 \u001b[38;5;241m=\u001b[39m \u001b[38;5;241m0.252\u001b[39m\n\u001b[0;32m----> 5\u001b[0m S_p,v_p \u001b[38;5;241m=\u001b[39m heston_model_sim(S0, v0, rho_p, \u001b[43mkappa\u001b[49m, theta, sigma,T, N, M)\n\u001b[1;32m      6\u001b[0m S_n,v_n \u001b[38;5;241m=\u001b[39m heston_model_sim(S0, v0, rho_n, kappa, theta, sigma,T, N, M)\n",
      "\u001b[0;31mNameError\u001b[0m: name 'kappa' is not defined"
     ]
    }
   ],
   "source": [
    "rho_p = 0.98\n",
    "rho_n = -0.98\n",
    "S0 = 100.0\n",
    "v0 = 0.252\n",
    "kappa = 3\n",
    "theta = 0.202\n",
    "sigma = \n",
    "S_p,v_p = heston_model_sim(S0, v0, rho_p, kappa, theta, sigma,T, N, M)\n",
    "S_n,v_n = heston_model_sim(S0, v0, rho_n, kappa, theta, sigma,T, N, M)"
   ]
  },
  {
   "cell_type": "code",
   "execution_count": 7,
   "id": "70030fa4-6d2d-4bed-8236-f08cb6e4e368",
   "metadata": {},
   "outputs": [
    {
     "ename": "NameError",
     "evalue": "name 'T' is not defined",
     "output_type": "error",
     "traceback": [
      "\u001b[0;31m---------------------------------------------------------------------------\u001b[0m",
      "\u001b[0;31mNameError\u001b[0m                                 Traceback (most recent call last)",
      "Cell \u001b[0;32mIn[7], line 2\u001b[0m\n\u001b[1;32m      1\u001b[0m fig, (ax1, ax2)  \u001b[38;5;241m=\u001b[39m plt\u001b[38;5;241m.\u001b[39msubplots(\u001b[38;5;241m1\u001b[39m, \u001b[38;5;241m2\u001b[39m, figsize\u001b[38;5;241m=\u001b[39m(\u001b[38;5;241m12\u001b[39m,\u001b[38;5;241m5\u001b[39m))\n\u001b[0;32m----> 2\u001b[0m time \u001b[38;5;241m=\u001b[39m np\u001b[38;5;241m.\u001b[39mlinspace(\u001b[38;5;241m0\u001b[39m,\u001b[43mT\u001b[49m,N\u001b[38;5;241m+\u001b[39m\u001b[38;5;241m1\u001b[39m)\n\u001b[1;32m      3\u001b[0m ax1\u001b[38;5;241m.\u001b[39mplot(time,S_p)\n\u001b[1;32m      4\u001b[0m ax1\u001b[38;5;241m.\u001b[39mset_title(\u001b[38;5;124m'\u001b[39m\u001b[38;5;124mHeston Model Asset Prices\u001b[39m\u001b[38;5;124m'\u001b[39m)\n",
      "\u001b[0;31mNameError\u001b[0m: name 'T' is not defined"
     ]
    },
    {
     "data": {
      "image/png": "[encoded data removed]",
      "text/plain": [
       "<Figure size 1200x500 with 2 Axes>"
      ]
     },
     "metadata": {},
     "output_type": "display_data"
    }
   ],
   "source": [
    "fig, (ax1, ax2)  = plt.subplots(1, 2, figsize=(12,5))\n",
    "time = np.linspace(0,T,N+1)\n",
    "ax1.plot(time,S_p)\n",
    "ax1.set_title('Heston Model Asset Prices')\n",
    "ax1.set_xlabel('Time')\n",
    "ax1.set_ylabel('Asset Prices')\n",
    "\n",
    "ax2.plot(time,v_p)\n",
    "ax2.set_title('Heston Model Variance Process')\n",
    "ax2.set_xlabel('Time')\n",
    "ax2.set_ylabel('Variance')\n",
    "\n",
    "plt.show()"
   ]
  },
  {
   "cell_type": "code",
   "execution_count": null,
   "id": "97426ab0-0045-45a1-94f9-343861dd11fa",
   "metadata": {},
   "outputs": [],
   "source": [
    "# simulate gbm process at time T\n",
    "gbm = S0*np.exp( (r - theta**2/2)*T + np.sqrt(theta)*np.sqrt(T)*np.random.normal(0,1,M) )\n",
    "\n",
    "fig, ax = plt.subplots()\n",
    "\n",
    "ax = sns.kdeplot(S_p[-1], label=r\"$\\rho= 0.98$\", ax=ax)\n",
    "ax = sns.kdeplot(S_n[-1], label=r\"$\\rho= -0.98$\", ax=ax)\n",
    "ax = sns.kdeplot(gbm, label=\"GBM\", ax=ax)\n",
    "\n",
    "plt.title(r'Asset Price Density under Heston Model')\n",
    "plt.xlim([20, 180])\n",
    "plt.xlabel('$S_T$')\n",
    "plt.ylabel('Density')\n",
    "plt.legend()\n",
    "plt.show()"
   ]
  },
  {
   "cell_type": "code",
   "execution_count": null,
   "id": "9f47c153-7058-4632-9112-49fd148c13db",
   "metadata": {},
   "outputs": [],
   "source": [
    "rho = -0.7\n",
    "S,v = heston_model_sim(S0, v0, rho, kappa, theta, sigma,T, N, M)\n",
    "\n",
    "# Set strikes and complete MC option price for different strikes\n",
    "K = np.arange(20,180,2)\n",
    "\n",
    "puts = np.array([np.exp(-r*T)*np.mean(np.maximum(k-S,0)) for k in K])\n",
    "calls = np.array([np.exp(-r*T)*np.mean(np.maximum(S-k,0)) for k in K])\n",
    "\n",
    "put_ivs = implied_vol(puts, S0, K, T, r, flag='p', q=0, return_as='numpy', on_error='ignore')\n",
    "call_ivs = implied_vol(calls, S0, K, T, r, flag='c', q=0, return_as='numpy')\n",
    "\n",
    "plt.plot(K, call_ivs, label=r'IV calls')\n",
    "plt.plot(K, put_ivs, label=r'IV puts')\n",
    "\n",
    "plt.ylabel('Implied Volatility')\n",
    "plt.xlabel('Strike')\n",
    "\n",
    "plt.title('Implied Volatility Smile from Heston Model')\n",
    "plt.legend()\n",
    "plt.show()"
   ]
  }
 ],
 "metadata": {
  "kernelspec": {
   "display_name": "Python (yyy)",
   "language": "python",
   "name": "yyy"
  },
  "language_info": {
   "codemirror_mode": {
    "name": "ipython",
    "version": 3
   },
   "file_extension": ".py",
   "mimetype": "text/x-python",
   "name": "python",
   "nbconvert_exporter": "python",
   "pygments_lexer": "ipython3",
   "version": "3.12.8"
  },
  "vscode": {
   "interpreter": {
    "hash": "e5fed7e365c7f688dda1ebba24a25a52cf51551a271995585bfb4d274bfd01cb"
   }
  }
 },
 "nbformat": 4,
 "nbformat_minor": 5
}
