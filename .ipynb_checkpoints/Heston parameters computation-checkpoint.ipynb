{
 "cells": [
  {
   "cell_type": "code",
   "execution_count": null,
   "id": "9bb80133-d691-4f0e-ba10-4b8862f3acad",
   "metadata": {},
   "outputs": [],
   "source": [
    "import pandas as pd\n",
    "import numpy as np\n",
    "import statsmodels.api as sm\n",
    "import matplotlib.pyplot as plt\n",
    "import statsmodels.api as sm\n",
    "\n",
    "def plot(field):\n",
    "    plt.figure()\n",
    "    plt.xlabel(\"Time\")\n",
    "    plt.ylabel(field)\n",
    "    plt.plot(data[\"Date\"], data[field], label=field)\n",
    "    plt.legend()"
   ]
  },
  {
   "cell_type": "code",
   "execution_count": null,
   "id": "e05c22da-5aae-4af1-8089-94d1814f0a9a",
   "metadata": {},
   "outputs": [],
   "source": [
    "data = pd.read_csv(\"clean_ibm.csv\")\n",
    "data['Date'] = pd.to_datetime(data['Date'], format=\"ISO8601\")\n",
    "data = data.sort_values(by='Date')"
   ]
  },
  {
   "cell_type": "code",
   "execution_count": null,
   "id": "7c6b5ffd-07a4-4c50-b836-3e7ed54a10a5",
   "metadata": {},
   "outputs": [],
   "source": [
    "data['HLOC'] = (data['Open'] + data['Close'] + data['Low'] + data['High']) / 4\n",
    "data['Log_return'] = np.log(data['HLOC'] / data['HLOC'].shift(1))\n",
    "\n",
    "plot(\"HLOC\")\n",
    "plot(\"Log_return\")"
   ]
  },
  {
   "cell_type": "code",
   "execution_count": null,
   "id": "e6c23d10-6ed0-41f2-adc1-20e93294b215",
   "metadata": {},
   "outputs": [],
   "source": [
    "data['rv_20'] = data['Log_return'].rolling(window=20).std()\n",
    "data['var_20d'] = data['rv_20']**2\n",
    "\n",
    "data['rv_2'] = data['Log_return'].rolling(window=2).std()\n",
    "data['var_2d'] = data['rv_2']**2\n",
    "data['var_change'] = data['var_2d'].diff()"
   ]
  },
  {
   "cell_type": "code",
   "execution_count": 18,
   "id": "c414f939-3914-4a74-a753-42f55ae5bf9a",
   "metadata": {},
   "outputs": [
    {
     "name": "stderr",
     "output_type": "stream",
     "text": [
      "/tmp/ipykernel_13098/1871246979.py:7: FutureWarning: Series.__getitem__ treating keys as positions is deprecated. In a future version, integer keys will always be treated as labels (consistent with DataFrame behavior). To access a value by position, use `ser.iloc[pos]`\n",
      "  b = model.params[1]\n"
     ]
    }
   ],
   "source": [
    "data['var_lagged'] = data['var_20d'].shift(1)\n",
    "data.dropna(inplace=True)\n",
    "X = data['var_lagged']\n",
    "Y = data['var_20d']\n",
    "X = sm.add_constant(X)\n",
    "model = sm.OLS(Y, X).fit()\n",
    "b = model.params[1]"
   ]
  },
  {
   "cell_type": "code",
   "execution_count": null,
   "id": "6b64042a-64d1-4c66-b4c8-9e7a1c607f45",
   "metadata": {},
   "outputs": [],
   "source": [
    "plot(\"rv_20\")\n",
    "plot(\"rv_2\")\n",
    "plot(\"var_20d\")\n",
    "plot(\"var_2d\")"
   ]
  },
  {
   "cell_type": "code",
   "execution_count": 20,
   "id": "48e23ad1-f323-4636-b75f-cdf5316566b2",
   "metadata": {},
   "outputs": [
    {
     "name": "stdout",
     "output_type": "stream",
     "text": [
      "0.0127891399338865\n",
      "0.08756147739483164\n",
      "0.11010226674329233\n",
      "191.12520638725746\n"
     ]
    }
   ],
   "source": [
    "mu = data['Log_return'].mean() * 252\n",
    "theta = data['var_2d'].mean() * 252\n",
    "xi = data['var_change'].std() * np.sqrt(252)\n",
    "kappa = -np.log(b) * 252\n",
    "\n",
    "print(mu)\n",
    "print(theta)\n",
    "print(xi)\n",
    "print(kappa)"
   ]
  },
  {
   "cell_type": "code",
   "execution_count": null,
   "id": "5a60328a-880f-4a38-b7fe-f13e261249c7",
   "metadata": {},
   "outputs": [],
   "source": []
  }
 ],
 "metadata": {
  "kernelspec": {
   "display_name": "Python (yyy)",
   "language": "python",
   "name": "yyy"
  },
  "language_info": {
   "codemirror_mode": {
    "name": "ipython",
    "version": 3
   },
   "file_extension": ".py",
   "mimetype": "text/x-python",
   "name": "python",
   "nbconvert_exporter": "python",
   "pygments_lexer": "ipython3",
   "version": "3.12.8"
  }
 },
 "nbformat": 4,
 "nbformat_minor": 5
}
