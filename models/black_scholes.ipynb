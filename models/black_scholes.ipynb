{
 "cells": [
  {
   "cell_type": "code",
   "execution_count": 1,
   "id": "d6dc7665-4a64-46e8-bdfc-f0c14dd04aa8",
   "metadata": {},
   "outputs": [],
   "source": [
    "import numpy as np\n",
    "import pandas as pd"
   ]
  },
  {
   "cell_type": "code",
   "execution_count": null,
   "id": "1dc173a2-b7fd-4f33-892a-187ce44dfc54",
   "metadata": {},
   "outputs": [],
   "source": [
    "data = pd.read_csv('')\n"
   ]
  }
 ],
 "metadata": {
  "kernelspec": {
   "display_name": "Python (yyy)",
   "language": "python",
   "name": "yyy"
  },
  "language_info": {
   "codemirror_mode": {
    "name": "ipython",
    "version": 3
   },
   "file_extension": ".py",
   "mimetype": "text/x-python",
   "name": "python",
   "nbconvert_exporter": "python",
   "pygments_lexer": "ipython3",
   "version": "3.12.8"
  }
 },
 "nbformat": 4,
 "nbformat_minor": 5
}
